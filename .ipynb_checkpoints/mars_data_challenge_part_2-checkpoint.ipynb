{
 "cells": [
  {
   "cell_type": "code",
   "execution_count": 1,
   "id": "636d8169",
   "metadata": {},
   "outputs": [],
   "source": [
    "from bs4 import BeautifulSoup\n",
    "from splinter import Browser\n",
    "from webdriver_manager.chrome import ChromeDriverManager\n",
    "import matplotlib.pyplot as plt\n",
    "import pandas as pd\n",
    "import datetime as dt\n"
   ]
  },
  {
   "cell_type": "code",
   "execution_count": 2,
   "id": "c80fb18f",
   "metadata": {},
   "outputs": [],
   "source": [
    "link = \"https://data-class-mars-challenge.s3.amazonaws.com/Mars/index.html\"\n",
    "\n",
    "executable_path = {'executable_path': ChromeDriverManager().install()}\n",
    "browser = Browser('chrome', **executable_path, headless=False)\n",
    "browser.visit(link)\n",
    "html = browser.html\n",
    "soup = BeautifulSoup(html, 'html.parser')"
   ]
  },
  {
   "cell_type": "code",
   "execution_count": 3,
   "id": "1a5bd7e8",
   "metadata": {},
   "outputs": [],
   "source": [
    "rows = soup.find_all(\"tr\", class_=\"data-row\")\n",
    "temp_data_lst = []\n",
    "\n",
    "for row in rows:\n",
    "    temp_dict = {}\n",
    "    temp_dict[\"id\"] = int(row.find(\"td\").text)\n",
    "    temp_dict[\"terrestrial_date\"] = dt.datetime.strptime(row.find_next(\"td\").find_next(\"td\").text,\"%Y-%m-%d\")\n",
    "    temp_dict[\"sol\"] = int(row.find_next(\"td\").find_next(\"td\").find_next(\"td\").text)\n",
    "    temp_dict[\"ls\"] = int(row.find_next(\"td\").find_next(\"td\").find_next(\"td\").find_next(\"td\").text)\n",
    "    temp_dict[\"month\"] = int(row.find_next(\"td\").find_next(\"td\").find_next(\"td\").find_next(\"td\").find_next(\"td\").text)\n",
    "    temp_dict[\"min_temp\"] = float(row.find_next(\"td\").find_next(\"td\").find_next(\"td\").find_next(\"td\").find_next(\"td\").find_next(\"td\").text)\n",
    "    temp_dict[\"pressure\"] = float(row.find_next(\"td\").find_next(\"td\").find_next(\"td\").find_next(\"td\").find_next(\"td\").find_next(\"td\").find_next(\"td\").text)\n",
    "    temp_data_lst.append(temp_dict)\n"
   ]
  },
  {
   "cell_type": "code",
   "execution_count": 4,
   "id": "a377b696",
   "metadata": {},
   "outputs": [
    {
     "data": {
      "text/html": [
       "<div>\n",
       "<style scoped>\n",
       "    .dataframe tbody tr th:only-of-type {\n",
       "        vertical-align: middle;\n",
       "    }\n",
       "\n",
       "    .dataframe tbody tr th {\n",
       "        vertical-align: top;\n",
       "    }\n",
       "\n",
       "    .dataframe thead th {\n",
       "        text-align: right;\n",
       "    }\n",
       "</style>\n",
       "<table border=\"1\" class=\"dataframe\">\n",
       "  <thead>\n",
       "    <tr style=\"text-align: right;\">\n",
       "      <th></th>\n",
       "      <th>id</th>\n",
       "      <th>terrestrial_date</th>\n",
       "      <th>sol</th>\n",
       "      <th>ls</th>\n",
       "      <th>month</th>\n",
       "      <th>min_temp</th>\n",
       "      <th>pressure</th>\n",
       "    </tr>\n",
       "  </thead>\n",
       "  <tbody>\n",
       "    <tr>\n",
       "      <th>0</th>\n",
       "      <td>2</td>\n",
       "      <td>2012-08-16</td>\n",
       "      <td>10</td>\n",
       "      <td>155</td>\n",
       "      <td>6</td>\n",
       "      <td>-75.0</td>\n",
       "      <td>739.0</td>\n",
       "    </tr>\n",
       "    <tr>\n",
       "      <th>1</th>\n",
       "      <td>13</td>\n",
       "      <td>2012-08-17</td>\n",
       "      <td>11</td>\n",
       "      <td>156</td>\n",
       "      <td>6</td>\n",
       "      <td>-76.0</td>\n",
       "      <td>740.0</td>\n",
       "    </tr>\n",
       "    <tr>\n",
       "      <th>2</th>\n",
       "      <td>24</td>\n",
       "      <td>2012-08-18</td>\n",
       "      <td>12</td>\n",
       "      <td>156</td>\n",
       "      <td>6</td>\n",
       "      <td>-76.0</td>\n",
       "      <td>741.0</td>\n",
       "    </tr>\n",
       "    <tr>\n",
       "      <th>3</th>\n",
       "      <td>35</td>\n",
       "      <td>2012-08-19</td>\n",
       "      <td>13</td>\n",
       "      <td>157</td>\n",
       "      <td>6</td>\n",
       "      <td>-74.0</td>\n",
       "      <td>732.0</td>\n",
       "    </tr>\n",
       "    <tr>\n",
       "      <th>4</th>\n",
       "      <td>46</td>\n",
       "      <td>2012-08-20</td>\n",
       "      <td>14</td>\n",
       "      <td>157</td>\n",
       "      <td>6</td>\n",
       "      <td>-74.0</td>\n",
       "      <td>740.0</td>\n",
       "    </tr>\n",
       "    <tr>\n",
       "      <th>...</th>\n",
       "      <td>...</td>\n",
       "      <td>...</td>\n",
       "      <td>...</td>\n",
       "      <td>...</td>\n",
       "      <td>...</td>\n",
       "      <td>...</td>\n",
       "      <td>...</td>\n",
       "    </tr>\n",
       "    <tr>\n",
       "      <th>1862</th>\n",
       "      <td>1889</td>\n",
       "      <td>2018-02-23</td>\n",
       "      <td>1973</td>\n",
       "      <td>133</td>\n",
       "      <td>5</td>\n",
       "      <td>-78.0</td>\n",
       "      <td>730.0</td>\n",
       "    </tr>\n",
       "    <tr>\n",
       "      <th>1863</th>\n",
       "      <td>1892</td>\n",
       "      <td>2018-02-24</td>\n",
       "      <td>1974</td>\n",
       "      <td>134</td>\n",
       "      <td>5</td>\n",
       "      <td>-77.0</td>\n",
       "      <td>729.0</td>\n",
       "    </tr>\n",
       "    <tr>\n",
       "      <th>1864</th>\n",
       "      <td>1894</td>\n",
       "      <td>2018-02-25</td>\n",
       "      <td>1975</td>\n",
       "      <td>134</td>\n",
       "      <td>5</td>\n",
       "      <td>-76.0</td>\n",
       "      <td>729.0</td>\n",
       "    </tr>\n",
       "    <tr>\n",
       "      <th>1865</th>\n",
       "      <td>1893</td>\n",
       "      <td>2018-02-26</td>\n",
       "      <td>1976</td>\n",
       "      <td>135</td>\n",
       "      <td>5</td>\n",
       "      <td>-77.0</td>\n",
       "      <td>728.0</td>\n",
       "    </tr>\n",
       "    <tr>\n",
       "      <th>1866</th>\n",
       "      <td>1895</td>\n",
       "      <td>2018-02-27</td>\n",
       "      <td>1977</td>\n",
       "      <td>135</td>\n",
       "      <td>5</td>\n",
       "      <td>-77.0</td>\n",
       "      <td>727.0</td>\n",
       "    </tr>\n",
       "  </tbody>\n",
       "</table>\n",
       "<p>1867 rows × 7 columns</p>\n",
       "</div>"
      ],
      "text/plain": [
       "        id terrestrial_date   sol   ls  month  min_temp  pressure\n",
       "0        2       2012-08-16    10  155      6     -75.0     739.0\n",
       "1       13       2012-08-17    11  156      6     -76.0     740.0\n",
       "2       24       2012-08-18    12  156      6     -76.0     741.0\n",
       "3       35       2012-08-19    13  157      6     -74.0     732.0\n",
       "4       46       2012-08-20    14  157      6     -74.0     740.0\n",
       "...    ...              ...   ...  ...    ...       ...       ...\n",
       "1862  1889       2018-02-23  1973  133      5     -78.0     730.0\n",
       "1863  1892       2018-02-24  1974  134      5     -77.0     729.0\n",
       "1864  1894       2018-02-25  1975  134      5     -76.0     729.0\n",
       "1865  1893       2018-02-26  1976  135      5     -77.0     728.0\n",
       "1866  1895       2018-02-27  1977  135      5     -77.0     727.0\n",
       "\n",
       "[1867 rows x 7 columns]"
      ]
     },
     "execution_count": 4,
     "metadata": {},
     "output_type": "execute_result"
    }
   ],
   "source": [
    "mars_temp_df = pd.DataFrame(temp_data_lst)\n",
    "mars_temp_df"
   ]
  },
  {
   "cell_type": "code",
   "execution_count": 5,
   "id": "26e048f9",
   "metadata": {},
   "outputs": [
    {
     "data": {
      "text/html": [
       "<div>\n",
       "<style scoped>\n",
       "    .dataframe tbody tr th:only-of-type {\n",
       "        vertical-align: middle;\n",
       "    }\n",
       "\n",
       "    .dataframe tbody tr th {\n",
       "        vertical-align: top;\n",
       "    }\n",
       "\n",
       "    .dataframe thead th {\n",
       "        text-align: right;\n",
       "    }\n",
       "</style>\n",
       "<table border=\"1\" class=\"dataframe\">\n",
       "  <thead>\n",
       "    <tr style=\"text-align: right;\">\n",
       "      <th></th>\n",
       "      <th>id</th>\n",
       "      <th>sol</th>\n",
       "      <th>ls</th>\n",
       "      <th>month</th>\n",
       "      <th>min_temp</th>\n",
       "      <th>pressure</th>\n",
       "    </tr>\n",
       "  </thead>\n",
       "  <tbody>\n",
       "    <tr>\n",
       "      <th>count</th>\n",
       "      <td>1867.000000</td>\n",
       "      <td>1867.000000</td>\n",
       "      <td>1867.000000</td>\n",
       "      <td>1867.000000</td>\n",
       "      <td>1867.000000</td>\n",
       "      <td>1867.000000</td>\n",
       "    </tr>\n",
       "    <tr>\n",
       "      <th>mean</th>\n",
       "      <td>955.551152</td>\n",
       "      <td>1015.670059</td>\n",
       "      <td>168.865024</td>\n",
       "      <td>6.141939</td>\n",
       "      <td>-76.121050</td>\n",
       "      <td>841.066417</td>\n",
       "    </tr>\n",
       "    <tr>\n",
       "      <th>std</th>\n",
       "      <td>545.048507</td>\n",
       "      <td>565.342298</td>\n",
       "      <td>105.599153</td>\n",
       "      <td>3.506493</td>\n",
       "      <td>5.504098</td>\n",
       "      <td>54.253226</td>\n",
       "    </tr>\n",
       "    <tr>\n",
       "      <th>min</th>\n",
       "      <td>2.000000</td>\n",
       "      <td>10.000000</td>\n",
       "      <td>0.000000</td>\n",
       "      <td>1.000000</td>\n",
       "      <td>-90.000000</td>\n",
       "      <td>727.000000</td>\n",
       "    </tr>\n",
       "    <tr>\n",
       "      <th>25%</th>\n",
       "      <td>489.500000</td>\n",
       "      <td>546.500000</td>\n",
       "      <td>78.000000</td>\n",
       "      <td>3.000000</td>\n",
       "      <td>-80.000000</td>\n",
       "      <td>800.000000</td>\n",
       "    </tr>\n",
       "    <tr>\n",
       "      <th>50%</th>\n",
       "      <td>959.000000</td>\n",
       "      <td>1028.000000</td>\n",
       "      <td>160.000000</td>\n",
       "      <td>6.000000</td>\n",
       "      <td>-76.000000</td>\n",
       "      <td>853.000000</td>\n",
       "    </tr>\n",
       "    <tr>\n",
       "      <th>75%</th>\n",
       "      <td>1425.500000</td>\n",
       "      <td>1505.500000</td>\n",
       "      <td>257.500000</td>\n",
       "      <td>9.000000</td>\n",
       "      <td>-72.000000</td>\n",
       "      <td>883.000000</td>\n",
       "    </tr>\n",
       "    <tr>\n",
       "      <th>max</th>\n",
       "      <td>1895.000000</td>\n",
       "      <td>1977.000000</td>\n",
       "      <td>359.000000</td>\n",
       "      <td>12.000000</td>\n",
       "      <td>-62.000000</td>\n",
       "      <td>925.000000</td>\n",
       "    </tr>\n",
       "  </tbody>\n",
       "</table>\n",
       "</div>"
      ],
      "text/plain": [
       "                id          sol           ls        month     min_temp  \\\n",
       "count  1867.000000  1867.000000  1867.000000  1867.000000  1867.000000   \n",
       "mean    955.551152  1015.670059   168.865024     6.141939   -76.121050   \n",
       "std     545.048507   565.342298   105.599153     3.506493     5.504098   \n",
       "min       2.000000    10.000000     0.000000     1.000000   -90.000000   \n",
       "25%     489.500000   546.500000    78.000000     3.000000   -80.000000   \n",
       "50%     959.000000  1028.000000   160.000000     6.000000   -76.000000   \n",
       "75%    1425.500000  1505.500000   257.500000     9.000000   -72.000000   \n",
       "max    1895.000000  1977.000000   359.000000    12.000000   -62.000000   \n",
       "\n",
       "          pressure  \n",
       "count  1867.000000  \n",
       "mean    841.066417  \n",
       "std      54.253226  \n",
       "min     727.000000  \n",
       "25%     800.000000  \n",
       "50%     853.000000  \n",
       "75%     883.000000  \n",
       "max     925.000000  "
      ]
     },
     "execution_count": 5,
     "metadata": {},
     "output_type": "execute_result"
    }
   ],
   "source": [
    "mars_temp_df.describe()"
   ]
  },
  {
   "cell_type": "code",
   "execution_count": 6,
   "id": "90bb9a0f",
   "metadata": {},
   "outputs": [
    {
     "name": "stdout",
     "output_type": "stream",
     "text": [
      "There are 12 months on Mars.\n",
      "A total of 1867 Martian days have been collected.\n"
     ]
    }
   ],
   "source": [
    "mnth = mars_temp_df[\"month\"].max()\n",
    "print(f\"There are {mnth} months on Mars.\")\n",
    "# I'm assuming 'ls' is the martian date\n",
    "days_on_mars = mars_temp_df[\"ls\"].count()\n",
    "print(f\"A total of {days_on_mars} Martian days have been collected.\")\n"
   ]
  },
  {
   "cell_type": "code",
   "execution_count": 7,
   "id": "99b6d849",
   "metadata": {},
   "outputs": [
    {
     "data": {
      "text/plain": [
       "Text(0, 0.5, 'Average Temperature Cumulative Months')"
      ]
     },
     "execution_count": 7,
     "metadata": {},
     "output_type": "execute_result"
    },
    {
     "data": {
      "image/png": "[encoded data removed]",
      "text/plain": [
       "<Figure size 432x288 with 1 Axes>"
      ]
     },
     "metadata": {
      "needs_background": "light"
     },
     "output_type": "display_data"
    }
   ],
   "source": [
    "temp_by_month = mars_temp_df[[\"month\",\"min_temp\"]]\n",
    "temp_by_month = temp_by_month['min_temp'].groupby(mars_temp_df[\"month\"]).mean()\n",
    "temp_by_month_df = pd.DataFrame(temp_by_month)\n",
    "temp_by_month_df\n",
    "\n",
    "plt.bar([1,2,3,4,5,6,7,8,9,10,11,12], temp_by_month_df[\"min_temp\"])\n",
    "plt.title(\"Mars Average Temperature by Months\")\n",
    "plt.xlabel(\"Martian Months\")\n",
    "plt.ylabel(\"Average Temperature Cumulative Months\")\n"
   ]
  },
  {
   "cell_type": "code",
   "execution_count": 8,
   "id": "a2139ed0",
   "metadata": {},
   "outputs": [
    {
     "name": "stdout",
     "output_type": "stream",
     "text": [
      "The third Martian month is the coldest.\n",
      "The eigth Martian month is the warmest.\n"
     ]
    }
   ],
   "source": [
    "print(\"The third Martian month is the coldest.\")\n",
    "print(\"The eigth Martian month is the warmest.\")"
   ]
  },
  {
   "cell_type": "code",
   "execution_count": 9,
   "id": "d48c9e9c",
   "metadata": {},
   "outputs": [
    {
     "data": {
      "text/plain": [
       "<BarContainer object of 12 artists>"
      ]
     },
     "execution_count": 9,
     "metadata": {},
     "output_type": "execute_result"
    },
    {
     "data": {
      "image/png": "[encoded data removed]",
      "text/plain": [
       "<Figure size 432x288 with 1 Axes>"
      ]
     },
     "metadata": {
      "needs_background": "light"
     },
     "output_type": "display_data"
    }
   ],
   "source": [
    "atmo_prssr = mars_temp_df[[\"month\",\"pressure\"]]\n",
    "atmo_prssr_mnth_avg = atmo_prssr[\"pressure\"].groupby(atmo_prssr[\"month\"]).mean()\n",
    "atmo_prssr_mnth_avg_df = pd.DataFrame(atmo_prssr_mnth_avg)\n",
    "atmo_prssr_mnth_avg_df\n",
    "\n",
    "plt.bar([1,2,3,4,5,6,7,8,9,10,11,12], atmo_prssr_mnth_avg_df[\"pressure\"])"
   ]
  },
  {
   "cell_type": "code",
   "execution_count": 10,
   "id": "b3686609",
   "metadata": {},
   "outputs": [
    {
     "name": "stdout",
     "output_type": "stream",
     "text": [
      "The sixth month has the lowest atmospheric pressure.\n",
      "The ninth month has the highest atmospheric pressure.\n"
     ]
    }
   ],
   "source": [
    "print(\"The sixth month has the lowest atmospheric pressure.\")\n",
    "print(\"The ninth month has the highest atmospheric pressure.\")\n"
   ]
  },
  {
   "cell_type": "markdown",
   "id": "33e7a7de",
   "metadata": {},
   "source": [
    "# Question 10"
   ]
  },
  {
   "cell_type": "code",
   "execution_count": 11,
   "id": "36d14232",
   "metadata": {},
   "outputs": [],
   "source": [
    "# earth_rprtd_temp = mars_temp_df[[\"terrestrial_date\",\"min_temp\"]]\n",
    "\n",
    "# # solution found to get one earth year source:\n",
    "# # https://stackoverflow.com/questions/29370057/select-dataframe-rows-between-two-dates\n",
    "# # I'm basing the martian year off of the ls value when it's at 0, and when it's at the very last value of 359\n",
    "# martian_year = (earth_rprtd_temp[\"terrestrial_date\"] > \"2013-8-1\") & (earth_rprtd_temp[\"terrestrial_date\"] <= \"2015-6-18\")\n",
    "# martian_rprtd_tmp = earth_rprtd_temp.loc[martian_year]\n",
    "\n",
    "# earth_year = (earth_rprtd_temp[\"terrestrial_date\"] > \"2013-1-1\") & (earth_rprtd_temp[\"terrestrial_date\"] <= \"2013-12-31\")\n",
    "# earth_rprtd_tmp = earth_rprtd_temp.loc[earth_year]\n",
    "\n",
    "# plt.figure(figsize=(10,5))\n",
    "# plt.plot(martian_rprtd_tmp[\"terrestrial_date\"], martian_rprtd_tmp[\"min_temp\"])\n",
    "# plt.xlabel(\"Martian Days\")\n",
    "# plt.ylabel(\"Martian Temperature\")\n",
    "# plt.legend(martian_rprtd_tmp)\n"
   ]
  },
  {
   "cell_type": "code",
   "execution_count": 12,
   "id": "cfcfdc3f",
   "metadata": {},
   "outputs": [],
   "source": [
    "# plt.figure(figsize=(10,5))\n",
    "# plt.plot(earth_rprtd_tmp[\"terrestrial_date\"], earth_rprtd_tmp[\"min_temp\"])\n",
    "# plt.xlabel(\"Martian Days\")\n",
    "# plt.ylabel(\"Martian Temperature\")\n",
    "# plt.legend('min_temp')"
   ]
  },
  {
   "cell_type": "markdown",
   "id": "0965122d",
   "metadata": {},
   "source": [
    "# Question 10 ver 2"
   ]
  },
  {
   "cell_type": "code",
   "execution_count": 13,
   "id": "3360af2a",
   "metadata": {},
   "outputs": [
    {
     "data": {
      "text/plain": [
       "[<matplotlib.lines.Line2D at 0x1ad6eb18d30>]"
      ]
     },
     "execution_count": 13,
     "metadata": {},
     "output_type": "execute_result"
    },
    {
     "data": {
      "image/png": "[encoded data removed]",
      "text/plain": [
       "<Figure size 720x360 with 1 Axes>"
      ]
     },
     "metadata": {
      "needs_background": "light"
     },
     "output_type": "display_data"
    }
   ],
   "source": [
    "# solution found to get one earth year source:\n",
    "# https://stackoverflow.com/questions/29370057/select-dataframe-rows-between-two-dates\n",
    "\n",
    "combined = mars_temp_df[[\"terrestrial_date\",\"month\",\"min_temp\"]]\n",
    "\n",
    "# define a date period for the martian days\n",
    "# which is the 12th month of the 359th martian day\n",
    "martian_year = (combined[\"terrestrial_date\"] > \"2013-8-1\") & (combined[\"terrestrial_date\"] <= \"2015-6-18\")\n",
    "martian_days_in_year = combined.loc[martian_year]\n",
    "\n",
    "# define a date period for the earth day\n",
    "# which is 2013-08-02 plus 365 days\n",
    "earth_year = (combined[\"terrestrial_date\"] >= \"2013-8-2\") & (combined[\"terrestrial_date\"] <= \"2014-8-1\")\n",
    "earth_days_in_year = combined.loc[earth_year]\n",
    "\n",
    "plt.figure(figsize=(10,5))\n",
    "plt.plot(martian_days_in_year['terrestrial_date'], martian_days_in_year['min_temp'])\n"
   ]
  },
  {
   "cell_type": "code",
   "execution_count": 14,
   "id": "eb02fc72",
   "metadata": {},
   "outputs": [
    {
     "data": {
      "text/plain": [
       "[<matplotlib.lines.Line2D at 0x1ad6eb09a60>]"
      ]
     },
     "execution_count": 14,
     "metadata": {},
     "output_type": "execute_result"
    },
    {
     "data": {
      "image/png": "[encoded data removed]",
      "text/plain": [
       "<Figure size 432x288 with 1 Axes>"
      ]
     },
     "metadata": {
      "needs_background": "light"
     },
     "output_type": "display_data"
    }
   ],
   "source": [
    "plt.plot(earth_days_in_year['terrestrial_date'], earth_days_in_year['min_temp'])"
   ]
  },
  {
   "cell_type": "code",
   "execution_count": 19,
   "id": "69a64f50",
   "metadata": {},
   "outputs": [
    {
     "name": "stdout",
     "output_type": "stream",
     "text": [
      "Disclosure: a few days are missing in the terrestrial_days column.\n",
      "An example would be from 2013-08-03 jumps to 2013-08-17\n",
      "This means that there are a total of 322 Earth days in a year.\n",
      "This also means that there are a total of 620 Martian days in a year.\n",
      "\n",
      "Mars has 298 days more than Earth.\n"
     ]
    }
   ],
   "source": [
    "print(\"Disclosure: a few days are missing in the terrestrial_days column.\")\n",
    "print(\"An example would be from 2013-08-03 jumps to 2013-08-17\")\n",
    "earth_days_len = len(earth_days_in_year)\n",
    "martian_days_len = len(martian_days_in_year)\n",
    "print(f\"This means that there are a total of {earth_days_len} Earth days in a year.\")\n",
    "print(f\"This also means that there are a total of {martian_days_len} Martian days in a year.\")\n",
    "print()\n",
    "difference = martian_days_len - earth_days_len\n",
    "print(f\"Mars has {difference} days more than Earth.\")"
   ]
  },
  {
   "cell_type": "code",
   "execution_count": 16,
   "id": "7660c5b1",
   "metadata": {},
   "outputs": [],
   "source": [
    "# 11. Export to CSV.\n",
    "\n",
    "mars_temp_df.to_csv(\"mars_temp.csv\", index=False)"
   ]
  },
  {
   "cell_type": "code",
   "execution_count": null,
   "id": "13fd9aca",
   "metadata": {},
   "outputs": [],
   "source": []
  }
 ],
 "metadata": {
  "kernelspec": {
   "display_name": "Python 3 (ipykernel)",
   "language": "python",
   "name": "python3"
  },
  "language_info": {
   "codemirror_mode": {
    "name": "ipython",
    "version": 3
   },
   "file_extension": ".py",
   "mimetype": "text/x-python",
   "name": "python",
   "nbconvert_exporter": "python",
   "pygments_lexer": "ipython3",
   "version": "3.9.12"
  }
 },
 "nbformat": 4,
 "nbformat_minor": 5
}
