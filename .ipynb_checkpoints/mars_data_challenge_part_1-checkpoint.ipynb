{
 "cells": [
  {
   "cell_type": "code",
   "execution_count": 45,
   "id": "214d4ebb",
   "metadata": {},
   "outputs": [],
   "source": [
    "from bs4 import BeautifulSoup\n",
    "from splinter import Browser\n",
    "from webdriver_manager.chrome import ChromeDriverManager\n",
    "import pandas as pd\n",
    "\n"
   ]
  },
  {
   "cell_type": "code",
   "execution_count": 46,
   "id": "69d1493f",
   "metadata": {},
   "outputs": [],
   "source": [
    "executable_path = {'executable_path': ChromeDriverManager().install()}\n",
    "browser = Browser('chrome', **executable_path, headless=False)\n",
    "browser.visit('https://redplanetscience.com/')\n",
    "html = browser.html\n",
    "soup = BeautifulSoup(html, 'html.parser')\n"
   ]
  },
  {
   "cell_type": "code",
   "execution_count": 50,
   "id": "65996dab",
   "metadata": {},
   "outputs": [
    {
     "data": {
      "text/plain": [
       "'{\"title\":{\"0\":\"MOXIE Could Help Future Rockets Launch Off Mars\",\"1\":\"NASA\\'s Perseverance Rover Will Carry First Spacesuit Materials to Mars\",\"2\":\"NASA Invites Public to Share Excitement of Mars 2020 Perseverance Rover Launch\",\"3\":\"6 Things to Know About NASA\\'s Ingenuity Mars Helicopter\",\"4\":\"Air Deliveries Bring NASA\\'s Perseverance Mars Rover Closer to Launch\",\"5\":\"Follow NASA\\'s Perseverance Rover in Real Time on Its Way to Mars\",\"6\":\"NASA to Broadcast Mars 2020 Perseverance Launch, Prelaunch Activities\",\"7\":\"NASA\\'s Perseverance Mars Rover Gets Its Wheels and Air Brakes\",\"8\":\"Join NASA for the Launch of the Mars 2020 Perseverance Rover\",\"9\":\"NASA\\'s InSight \\'Hears\\' Peculiar Sounds on Mars\",\"10\":\"NASA\\'s Push to Save the Mars InSight Lander\\'s Heat Probe\",\"11\":\"NASA Moves Forward With Campaign to Return Mars Samples to Earth\",\"12\":\"Newfound Martian Aurora Actually the Most Common; Sheds Light on Mars\\' Changing Climate\",\"13\":\"From JPL\\'s Mailroom to Mars and Beyond\",\"14\":\"3 Things We\\'ve Learned From NASA\\'s Mars InSight \"},\"summary\":{\"0\":\"NASA\\'s Perseverance rover carries a device to convert Martian air into oxygen that, if produced on a larger scale, could be used not just for breathing, but also for fuel.\",\"1\":\"In a Q&A, spacesuit designer Amy Ross explains how five samples, including a piece of helmet visor, will be tested aboard the rover, which is targeting a July 30 launch. \",\"2\":\"There are lots of ways to participate in the historic event, which is targeted for July 30.\",\"3\":\"The first helicopter attempting to fly on another planet is a marvel of engineering. Get up to speed with these key facts about its plans.\",\"4\":\"A NASA Wallops Flight Facility cargo plane transported more than two tons of equipment \\\\u2014 including the rover\\'s sample collection tubes \\\\u2014 to Florida for this summer\\'s liftoff.\",\"5\":\"A crisply rendered web application can show you where the agency\\'s Mars 2020 mission is right now as it makes its way to the Red Planet for a Feb. 18, 2021, landing.\",\"6\":\"Starting July 27, news activities will cover everything from mission engineering and science to returning samples from Mars to, of course, the launch itself.\",\"7\":\"After the rover was shipped from JPL to Kennedy Space Center, the team is getting closer to finalizing the spacecraft for launch later this summer.\",\"8\":\"No matter where you live, choose from a menu of activities to join NASA as we \\\\\"Countdown to Mars\\\\\" and launch the Perseverance rover to the Red Planet.\",\"9\":\"Listen to the marsquakes and other, less-expected sounds that the Mars lander has been detecting.\",\"10\":\"The scoop on the end of the spacecraft\\'s robotic arm will be used to \\'pin\\' the mole against the wall of its hole.\",\"11\":\"During this next phase, the program will mature critical technologies and make critical design decisions as well as assess industry partnerships.\",\"12\":\"A type of Martian aurora first identified by NASA\\\\u2019s MAVEN spacecraft in 2016 is actually the most common form of aurora occurring on the Red Planet, according to new results from the mission.\",\"13\":\"Bill Allen has thrived as the mechanical systems design lead for three Mars rover missions, but he got his start as a teenager sorting letters for the NASA center.\",\"14\":\"Scientists are finding new mysteries since the geophysics mission landed two years ago.\"}}'"
      ]
     },
     "execution_count": 50,
     "metadata": {},
     "output_type": "execute_result"
    }
   ],
   "source": [
    "#  Need to append to a singular dictionary.\n",
    "\n",
    "title_and_summary = []\n",
    "# used to define how many loops we go through\n",
    "titles = soup.find_all(\"div\", class_=\"col-md-8\")\n",
    "\n",
    "for title in titles:\n",
    "    temp_dict = {}\n",
    "    temp_dict[\"title\"] = title.find(\"div\", class_=\"content_title\").text\n",
    "    temp_dict[\"summary\"] = title.find(\"div\", class_=\"article_teaser_body\").text\n",
    "    title_and_summary.append(temp_dict)\n",
    "\n",
    "title_and_summary\n",
    "    \n",
    "# create a DataFrame and convert it to a JSON.\n",
    "title_and_summary_df = pd.DataFrame(title_and_summary)\n",
    "title_and_summary_json = title_and_summary_df.to_json()\n",
    "title_and_summary_json"
   ]
  },
  {
   "cell_type": "code",
   "execution_count": null,
   "id": "0fe304e6",
   "metadata": {},
   "outputs": [],
   "source": []
  }
 ],
 "metadata": {
  "kernelspec": {
   "display_name": "Python 3 (ipykernel)",
   "language": "python",
   "name": "python3"
  },
  "language_info": {
   "codemirror_mode": {
    "name": "ipython",
    "version": 3
   },
   "file_extension": ".py",
   "mimetype": "text/x-python",
   "name": "python",
   "nbconvert_exporter": "python",
   "pygments_lexer": "ipython3",
   "version": "3.9.12"
  }
 },
 "nbformat": 4,
 "nbformat_minor": 5
}
