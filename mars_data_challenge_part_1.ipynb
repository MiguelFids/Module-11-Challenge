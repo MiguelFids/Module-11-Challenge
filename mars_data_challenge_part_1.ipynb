{
 "cells": [
  {
   "cell_type": "code",
   "execution_count": 2,
   "id": "214d4ebb",
   "metadata": {},
   "outputs": [],
   "source": [
    "from bs4 import BeautifulSoup\n",
    "from splinter import Browser\n",
    "from webdriver_manager.chrome import ChromeDriverManager\n",
    "import pandas as pd\n",
    "\n"
   ]
  },
  {
   "cell_type": "code",
   "execution_count": 3,
   "id": "69d1493f",
   "metadata": {},
   "outputs": [],
   "source": [
    "executable_path = {'executable_path': ChromeDriverManager().install()}\n",
    "browser = Browser('chrome', **executable_path, headless=False)\n",
    "browser.visit('https://redplanetscience.com/')\n",
    "html = browser.html\n",
    "soup = BeautifulSoup(html, 'html.parser')\n"
   ]
  },
  {
   "cell_type": "code",
   "execution_count": 10,
   "id": "65996dab",
   "metadata": {},
   "outputs": [
    {
     "data": {
      "text/plain": [
       "[{'title': \"NASA's Mars Perseverance Rover Passes Flight Readiness Review\",\n",
       "  'summary': \"\\u200bThe agency's Mars 2020 mission has one more big prelaunch review – the Launch Readiness Review, on July 27.\"},\n",
       " {'title': 'NASA Perseverance Mars Rover Scientists Train in the Nevada Desert',\n",
       "  'summary': \"Team members searched for signs of ancient microscopic life there, just as NASA's latest rover will on the Red Planet next year.\"},\n",
       " {'title': \"Follow NASA's Perseverance Rover in Real Time on Its Way to Mars\",\n",
       "  'summary': \"A crisply rendered web application can show you where the agency's Mars 2020 mission is right now as it makes its way to the Red Planet for a Feb. 18, 2021, landing.\"},\n",
       " {'title': \"How NASA's Perseverance Mars Team Adjusted to Work in the Time of Coronavirus \",\n",
       "  'summary': 'Like much of the rest of the world, the Mars rover team is pushing forward with its mission-critical work while putting the health and safety of their colleagues and community first.'},\n",
       " {'title': 'NASA to Hold Mars 2020 Perseverance Rover Launch Briefing',\n",
       "  'summary': \"Learn more about the agency's next Red Planet mission during a live event on June 17.\"},\n",
       " {'title': \"Meet the People Behind NASA's Perseverance Rover\",\n",
       "  'summary': \"These are the scientists and engineers who built NASA's next Mars rover and who will guide it to a safe landing in Jezero Crater. \"},\n",
       " {'title': \"Mars InSight Lander to Push on Top of the 'Mole'\",\n",
       "  'summary': 'Engineers have a plan for pushing down on the heat probe, which has been stuck at the Martian surface for a year.'},\n",
       " {'title': \"NASA Wins 4 Webbys, 4 People's Voice Awards\",\n",
       "  'summary': 'Winners include the JPL-managed \"Send Your Name to Mars\" campaign, NASA\\'s Global Climate Change website and Solar System Interactive.'},\n",
       " {'title': \"NASA Readies Perseverance Mars Rover's Earthly Twin \",\n",
       "  'summary': \"Did you know NASA's next Mars rover has a nearly identical sibling on Earth for testing? Even better, it's about to roll for the first time through a replica Martian landscape.\"},\n",
       " {'title': \"NASA's Mars Reconnaissance Orbiter Undergoes Memory Update\",\n",
       "  'summary': 'Other orbiters will continue relaying data from Mars surface missions for a two-week period.'},\n",
       " {'title': \"NASA's Mars 2020 Rover Completes Its First Drive\",\n",
       "  'summary': 'In a 10-plus-hour marathon, the rover steered, turned and drove in 3-foot (1-meter) increments over small ramps.'},\n",
       " {'title': \"The Detective Aboard NASA's Perseverance Rover\",\n",
       "  'summary': 'An instrument called SHERLOC will, with the help of its partner WATSON, hunt for signs of ancient life by detecting organic molecules and minerals.'},\n",
       " {'title': 'The Man Who Wanted to Fly on Mars',\n",
       "  'summary': \"The Mars Helicopter is riding to the Red Planet this summer with NASA's Perseverance rover. The helicopter's chief engineer, Bob Balaram, shares the saga of how it came into being.\"},\n",
       " {'title': \"Common Questions about InSight's 'Mole'\",\n",
       "  'summary': 'The following Q&As with members of the team answer some of the most common questions about the burrowing device, part of a science instrument called the Heat Flow and Physical Properties Package (HP3).'},\n",
       " {'title': \"NASA's Curiosity Takes Selfie With 'Mary Anning' on the Red Planet\",\n",
       "  'summary': 'The Mars rover has drilled three samples of rock in this clay-enriched region since arriving in July.'}]"
      ]
     },
     "execution_count": 10,
     "metadata": {},
     "output_type": "execute_result"
    }
   ],
   "source": [
    "#  Need to append to a singular dictionary.\n",
    "\n",
    "title_and_summary = []\n",
    "# used to define how many loops we go through\n",
    "titles = soup.find_all(\"div\", class_=\"col-md-8\")\n",
    "\n",
    "for title in titles:\n",
    "    temp_dict = {}\n",
    "    temp_dict[\"title\"] = title.find(\"div\", class_=\"content_title\").text\n",
    "    temp_dict[\"summary\"] = title.find(\"div\", class_=\"article_teaser_body\").text\n",
    "    title_and_summary.append(temp_dict)\n",
    "\n",
    "# list of dictionaries\n",
    "title_and_summary\n"
   ]
  },
  {
   "cell_type": "code",
   "execution_count": 9,
   "id": "27c2505c",
   "metadata": {},
   "outputs": [
    {
     "data": {
      "text/html": [
       "<div>\n",
       "<style scoped>\n",
       "    .dataframe tbody tr th:only-of-type {\n",
       "        vertical-align: middle;\n",
       "    }\n",
       "\n",
       "    .dataframe tbody tr th {\n",
       "        vertical-align: top;\n",
       "    }\n",
       "\n",
       "    .dataframe thead th {\n",
       "        text-align: right;\n",
       "    }\n",
       "</style>\n",
       "<table border=\"1\" class=\"dataframe\">\n",
       "  <thead>\n",
       "    <tr style=\"text-align: right;\">\n",
       "      <th></th>\n",
       "      <th>title</th>\n",
       "      <th>summary</th>\n",
       "    </tr>\n",
       "  </thead>\n",
       "  <tbody>\n",
       "    <tr>\n",
       "      <th>0</th>\n",
       "      <td>NASA's Mars Perseverance Rover Passes Flight R...</td>\n",
       "      <td>​The agency's Mars 2020 mission has one more b...</td>\n",
       "    </tr>\n",
       "    <tr>\n",
       "      <th>1</th>\n",
       "      <td>NASA Perseverance Mars Rover Scientists Train ...</td>\n",
       "      <td>Team members searched for signs of ancient mic...</td>\n",
       "    </tr>\n",
       "    <tr>\n",
       "      <th>2</th>\n",
       "      <td>Follow NASA's Perseverance Rover in Real Time ...</td>\n",
       "      <td>A crisply rendered web application can show yo...</td>\n",
       "    </tr>\n",
       "    <tr>\n",
       "      <th>3</th>\n",
       "      <td>How NASA's Perseverance Mars Team Adjusted to ...</td>\n",
       "      <td>Like much of the rest of the world, the Mars r...</td>\n",
       "    </tr>\n",
       "    <tr>\n",
       "      <th>4</th>\n",
       "      <td>NASA to Hold Mars 2020 Perseverance Rover Laun...</td>\n",
       "      <td>Learn more about the agency's next Red Planet ...</td>\n",
       "    </tr>\n",
       "    <tr>\n",
       "      <th>5</th>\n",
       "      <td>Meet the People Behind NASA's Perseverance Rover</td>\n",
       "      <td>These are the scientists and engineers who bui...</td>\n",
       "    </tr>\n",
       "    <tr>\n",
       "      <th>6</th>\n",
       "      <td>Mars InSight Lander to Push on Top of the 'Mole'</td>\n",
       "      <td>Engineers have a plan for pushing down on the ...</td>\n",
       "    </tr>\n",
       "    <tr>\n",
       "      <th>7</th>\n",
       "      <td>NASA Wins 4 Webbys, 4 People's Voice Awards</td>\n",
       "      <td>Winners include the JPL-managed \"Send Your Nam...</td>\n",
       "    </tr>\n",
       "    <tr>\n",
       "      <th>8</th>\n",
       "      <td>NASA Readies Perseverance Mars Rover's Earthly...</td>\n",
       "      <td>Did you know NASA's next Mars rover has a near...</td>\n",
       "    </tr>\n",
       "    <tr>\n",
       "      <th>9</th>\n",
       "      <td>NASA's Mars Reconnaissance Orbiter Undergoes M...</td>\n",
       "      <td>Other orbiters will continue relaying data fro...</td>\n",
       "    </tr>\n",
       "    <tr>\n",
       "      <th>10</th>\n",
       "      <td>NASA's Mars 2020 Rover Completes Its First Drive</td>\n",
       "      <td>In a 10-plus-hour marathon, the rover steered,...</td>\n",
       "    </tr>\n",
       "    <tr>\n",
       "      <th>11</th>\n",
       "      <td>The Detective Aboard NASA's Perseverance Rover</td>\n",
       "      <td>An instrument called SHERLOC will, with the he...</td>\n",
       "    </tr>\n",
       "    <tr>\n",
       "      <th>12</th>\n",
       "      <td>The Man Who Wanted to Fly on Mars</td>\n",
       "      <td>The Mars Helicopter is riding to the Red Plane...</td>\n",
       "    </tr>\n",
       "    <tr>\n",
       "      <th>13</th>\n",
       "      <td>Common Questions about InSight's 'Mole'</td>\n",
       "      <td>The following Q&amp;As with members of the team an...</td>\n",
       "    </tr>\n",
       "    <tr>\n",
       "      <th>14</th>\n",
       "      <td>NASA's Curiosity Takes Selfie With 'Mary Annin...</td>\n",
       "      <td>The Mars rover has drilled three samples of ro...</td>\n",
       "    </tr>\n",
       "  </tbody>\n",
       "</table>\n",
       "</div>"
      ],
      "text/plain": [
       "                                                title  \\\n",
       "0   NASA's Mars Perseverance Rover Passes Flight R...   \n",
       "1   NASA Perseverance Mars Rover Scientists Train ...   \n",
       "2   Follow NASA's Perseverance Rover in Real Time ...   \n",
       "3   How NASA's Perseverance Mars Team Adjusted to ...   \n",
       "4   NASA to Hold Mars 2020 Perseverance Rover Laun...   \n",
       "5    Meet the People Behind NASA's Perseverance Rover   \n",
       "6    Mars InSight Lander to Push on Top of the 'Mole'   \n",
       "7         NASA Wins 4 Webbys, 4 People's Voice Awards   \n",
       "8   NASA Readies Perseverance Mars Rover's Earthly...   \n",
       "9   NASA's Mars Reconnaissance Orbiter Undergoes M...   \n",
       "10   NASA's Mars 2020 Rover Completes Its First Drive   \n",
       "11     The Detective Aboard NASA's Perseverance Rover   \n",
       "12                  The Man Who Wanted to Fly on Mars   \n",
       "13            Common Questions about InSight's 'Mole'   \n",
       "14  NASA's Curiosity Takes Selfie With 'Mary Annin...   \n",
       "\n",
       "                                              summary  \n",
       "0   ​The agency's Mars 2020 mission has one more b...  \n",
       "1   Team members searched for signs of ancient mic...  \n",
       "2   A crisply rendered web application can show yo...  \n",
       "3   Like much of the rest of the world, the Mars r...  \n",
       "4   Learn more about the agency's next Red Planet ...  \n",
       "5   These are the scientists and engineers who bui...  \n",
       "6   Engineers have a plan for pushing down on the ...  \n",
       "7   Winners include the JPL-managed \"Send Your Nam...  \n",
       "8   Did you know NASA's next Mars rover has a near...  \n",
       "9   Other orbiters will continue relaying data fro...  \n",
       "10  In a 10-plus-hour marathon, the rover steered,...  \n",
       "11  An instrument called SHERLOC will, with the he...  \n",
       "12  The Mars Helicopter is riding to the Red Plane...  \n",
       "13  The following Q&As with members of the team an...  \n",
       "14  The Mars rover has drilled three samples of ro...  "
      ]
     },
     "execution_count": 9,
     "metadata": {},
     "output_type": "execute_result"
    }
   ],
   "source": [
    "# convert to DataFrame\n",
    "title_and_summary_df = pd.DataFrame(title_and_summary)\n",
    "title_and_summary_df"
   ]
  },
  {
   "cell_type": "code",
   "execution_count": 8,
   "id": "0fe304e6",
   "metadata": {},
   "outputs": [
    {
     "data": {
      "text/plain": [
       "'{\"title\":{\"0\":\"NASA\\'s Mars Perseverance Rover Passes Flight Readiness Review\",\"1\":\"NASA Perseverance Mars Rover Scientists Train in the Nevada Desert\",\"2\":\"Follow NASA\\'s Perseverance Rover in Real Time on Its Way to Mars\",\"3\":\"How NASA\\'s Perseverance Mars Team Adjusted to Work in the Time of Coronavirus \",\"4\":\"NASA to Hold Mars 2020 Perseverance Rover Launch Briefing\",\"5\":\"Meet the People Behind NASA\\'s Perseverance Rover\",\"6\":\"Mars InSight Lander to Push on Top of the \\'Mole\\'\",\"7\":\"NASA Wins 4 Webbys, 4 People\\'s Voice Awards\",\"8\":\"NASA Readies Perseverance Mars Rover\\'s Earthly Twin \",\"9\":\"NASA\\'s Mars Reconnaissance Orbiter Undergoes Memory Update\",\"10\":\"NASA\\'s Mars 2020 Rover Completes Its First Drive\",\"11\":\"The Detective Aboard NASA\\'s Perseverance Rover\",\"12\":\"The Man Who Wanted to Fly on Mars\",\"13\":\"Common Questions about InSight\\'s \\'Mole\\'\",\"14\":\"NASA\\'s Curiosity Takes Selfie With \\'Mary Anning\\' on the Red Planet\"},\"summary\":{\"0\":\"\\\\u200bThe agency\\'s Mars 2020 mission has one more big prelaunch review \\\\u2013 the Launch Readiness Review, on July 27.\",\"1\":\"Team members searched for signs of ancient microscopic life there, just as NASA\\'s latest rover will on the Red Planet next year.\",\"2\":\"A crisply rendered web application can show you where the agency\\'s Mars 2020 mission is right now as it makes its way to the Red Planet for a Feb. 18, 2021, landing.\",\"3\":\"Like much of the rest of the world, the Mars rover team is pushing forward with its mission-critical work while putting the health and safety of their colleagues and community first.\",\"4\":\"Learn more about the agency\\'s next Red Planet mission during a live event on June 17.\",\"5\":\"These are the scientists and engineers who built NASA\\'s next Mars rover and who will guide it to a safe landing in Jezero Crater. \",\"6\":\"Engineers have a plan for pushing down on the heat probe, which has been stuck at the Martian surface for a year.\",\"7\":\"Winners include the JPL-managed \\\\\"Send Your Name to Mars\\\\\" campaign, NASA\\'s Global Climate Change website and Solar System Interactive.\",\"8\":\"Did you know NASA\\'s next Mars rover has a nearly identical sibling on Earth for testing? Even better, it\\'s about to roll for the first time through a replica Martian landscape.\",\"9\":\"Other orbiters will continue relaying data from Mars surface missions for a two-week period.\",\"10\":\"In a 10-plus-hour marathon, the rover steered, turned and drove in 3-foot (1-meter) increments over small ramps.\",\"11\":\"An instrument called SHERLOC will, with the help of its partner WATSON, hunt for signs of ancient life by detecting organic molecules and minerals.\",\"12\":\"The Mars Helicopter is riding to the Red Planet this summer with NASA\\'s Perseverance rover. The helicopter\\'s chief engineer, Bob Balaram, shares the saga of how it came into being.\",\"13\":\"The following Q&As with members of the team answer some of the most common questions about the burrowing device, part of a science instrument called the Heat Flow and Physical Properties Package (HP3).\",\"14\":\"The Mars rover has drilled three samples of rock in this clay-enriched region since arriving in July.\"}}'"
      ]
     },
     "execution_count": 8,
     "metadata": {},
     "output_type": "execute_result"
    }
   ],
   "source": [
    "    \n",
    "# convert it to a JSON.\n",
    "title_and_summary_json = title_and_summary_df.to_json()\n",
    "title_and_summary_json"
   ]
  },
  {
   "cell_type": "code",
   "execution_count": null,
   "id": "bf6cdd30",
   "metadata": {},
   "outputs": [],
   "source": []
  }
 ],
 "metadata": {
  "kernelspec": {
   "display_name": "Python 3 (ipykernel)",
   "language": "python",
   "name": "python3"
  },
  "language_info": {
   "codemirror_mode": {
    "name": "ipython",
    "version": 3
   },
   "file_extension": ".py",
   "mimetype": "text/x-python",
   "name": "python",
   "nbconvert_exporter": "python",
   "pygments_lexer": "ipython3",
   "version": "3.9.12"
  }
 },
 "nbformat": 4,
 "nbformat_minor": 5
}
